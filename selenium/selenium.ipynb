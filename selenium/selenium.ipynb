{
 "cells": [
  {
   "cell_type": "code",
   "execution_count": 13,
   "metadata": {},
   "outputs": [],
   "source": [
    "# utils \n",
    "import time\n",
    "\n",
    "# selenium\n",
    "import selenium\n",
    "from selenium import webdriver\n",
    "import time\n",
    "from webdriver_manager.chrome import ChromeDriverManager\n",
    "from selenium.webdriver.chrome.service import Service\n",
    "from selenium.webdriver.support.ui import WebDriverWait\n",
    "from selenium.webdriver.support import expected_conditions as EC\n",
    "from selenium.webdriver.common.by import By"
   ]
  },
  {
   "cell_type": "code",
   "execution_count": 14,
   "metadata": {},
   "outputs": [],
   "source": [
    "chromepath = ChromeDriverManager().install() # Chrome driver install"
   ]
  },
  {
   "cell_type": "code",
   "execution_count": 189,
   "metadata": {},
   "outputs": [],
   "source": [
    "# opening Chrome\n",
    "service_chrome = Service(executable_path = chromepath) \n",
    "options_chrome = webdriver.ChromeOptions()\n",
    "driver_chrome = webdriver.Chrome(service=service_chrome, options=options_chrome) # opens Chrome\n",
    "# driver_chrome.maximize_window() why tho?"
   ]
  },
  {
   "cell_type": "code",
   "execution_count": 190,
   "metadata": {},
   "outputs": [],
   "source": [
    "# opening the OLX page with selected filters\n",
    "driver_chrome.get('https://www.olx.pl/motoryzacja/samochody/bmw/?search%5Bfilter_enum_model%5D%5B0%5D=3-as-sorozat&search%5Bfilter_enum_petrol%5D%5B0%5D=petrol&search%5Bfilter_enum_transmission%5D%5B0%5D=manual&search%5Bfilter_float_enginesize%3Afrom%5D=2000&search%5Bfilter_float_year%3Afrom%5D=1993&search%5Bfilter_float_year%3Ato%5D=1997&search%5Border%5D=relevance%3Adesc')"
   ]
  },
  {
   "cell_type": "code",
   "execution_count": 191,
   "metadata": {},
   "outputs": [],
   "source": [
    "# accepting cookies\n",
    "content = driver_chrome.find_element(\"xpath\", '''//*[@id=\"onetrust-accept-btn-handler\"]''' )\n",
    "content.click()"
   ]
  },
  {
   "cell_type": "code",
   "execution_count": 192,
   "metadata": {},
   "outputs": [],
   "source": [
    "# getting links to all pages\n",
    "elements_page = driver_chrome.find_elements(\"xpath\", '''//a[starts-with(@data-testid,\"pagination-link-\")]''')\n",
    "links_page=[element.get_attribute('href') for element in elements_page]"
   ]
  },
  {
   "cell_type": "code",
   "execution_count": 205,
   "metadata": {},
   "outputs": [],
   "source": [
    "links_ad=[]\n",
    "for page in links_page:\n",
    "    #if links_page.index(page)!=0: # changing tabs\n",
    "    driver_chrome.get(page)\n",
    "    time.sleep(1)\n",
    "    elements_ad=driver_chrome.find_elements(\"xpath\", '''//a[@class=\"css-z3gu2d\" and starts-with(@href,\"/d/oferta\")]''')\n",
    "    elements_ad.extend(driver_chrome.find_elements(\"xpath\", '''//a[@class=\"css-z3gu2d\" and starts-with(@href,\"https://www.otomoto.pl/\")]'''))\n",
    "    elements_ad=[element for element in elements_ad if elements_ad.index(element)%2==0] # each ad is going in twice - removing them early\n",
    "    for element in elements_ad:\n",
    "        links_ad.append(element.get_attribute('href'))\n",
    "links_ad=list(set(links_ad))"
   ]
  },
  {
   "cell_type": "code",
   "execution_count": null,
   "metadata": {},
   "outputs": [],
   "source": [
    "# saving links to a .txt file\n",
    "with open(\"links.txt\", 'w') as file:\n",
    "    for link in links_ad:\n",
    "        file.write(element + '\\n')"
   ]
  }
 ],
 "metadata": {
  "kernelspec": {
   "display_name": "Python 3",
   "language": "python",
   "name": "python3"
  },
  "language_info": {
   "codemirror_mode": {
    "name": "ipython",
    "version": 3
   },
   "file_extension": ".py",
   "mimetype": "text/x-python",
   "name": "python",
   "nbconvert_exporter": "python",
   "pygments_lexer": "ipython3",
   "version": "3.10.3"
  }
 },
 "nbformat": 4,
 "nbformat_minor": 2
}
